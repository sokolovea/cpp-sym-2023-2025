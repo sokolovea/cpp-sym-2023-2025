{
 "cells": [
  {
   "cell_type": "markdown",
   "id": "2cbc6ecc",
   "metadata": {},
   "source": [
    "  # Лабораторная работа №3. Функции, позволяющие работать в функциональном стиле: map, filter, zip, all и any. Модули functools и itertools.\n",
    "  \n",
    "**Цель работы** – Научиться работать со встроенными функциями: map, filter, zip, all и any, выполнять сортировку по ключу методом sort и функцией sorted; познакомиться с функциями стандартных модулей functools и itertools; научиться применять изученные функции при решении задач."
   ]
  },
  {
   "cell_type": "markdown",
   "id": "1e4b0b1c",
   "metadata": {},
   "source": [
    "## **Задание 1**\n",
    "Привести собственные примеры использования функций, указанных в таблице.\n",
    "<img src=\"number_1.png\" width=\"600\" align=\"left\">"
   ]
  },
  {
   "cell_type": "markdown",
   "id": "7434e28c",
   "metadata": {},
   "source": [
    "### **1.1. Задание на функцию all**\n",
    "Вы пишете функцию печати строки для разрабатываемого языка программирования, но пока она не умеет правильно обрабатывать некоторые символы. Пусть в bad_set находятся коды таких символов. Необходимо проверить, корректна ли строка с точки зрения этой функции."
   ]
  },
  {
   "cell_type": "code",
   "execution_count": 1,
   "id": "f00d0d3e",
   "metadata": {
    "ExecuteTime": {
     "end_time": "2023-10-01T09:41:44.741473Z",
     "start_time": "2023-10-01T09:41:44.737073Z"
    }
   },
   "outputs": [
    {
     "name": "stdout",
     "output_type": "stream",
     "text": [
      "\"Hello, world!\": Check OK!\n",
      "\"Goodbye,\tworld!\": Check FAILED!\n"
     ]
    }
   ],
   "source": [
    "def validate_string(s, bad_set):\n",
    "    return all(ord(c) not in bad_set for c in s)\n",
    "\n",
    "\n",
    "def get_result(log_value):\n",
    "    if log_value:\n",
    "        return 'Check OK!'\n",
    "    return 'Check FAILED!'\n",
    "\n",
    "\n",
    "s1 = 'Hello, world!'\n",
    "s2 = 'Goodbye,\\tworld!'\n",
    "bad_set = set(ord(c) for c in ['\\t', '\\r', '\\b'])\n",
    "print(f'\"{s1}\": {get_result(validate_string(s1, bad_set))}')\n",
    "print(f'\"{s2}\": {get_result(validate_string(s2, bad_set))}')"
   ]
  },
  {
   "cell_type": "markdown",
   "id": "19d0c0c8",
   "metadata": {},
   "source": [
    "### **1.2. Задание на компаратор в sort**\n",
    "Вам нужно отсортировать записи с информацией о пользователях системы Linux по названию используемой оболочки (по алфавиту). Второй параметр сортировки - логин пользователя в обратном алфавитном порядке. Каждая запись представляет собой строку в файле /etc/passwd, где логин пользователя - строка до первого двоеточия, название используемой оболички - строка после последнего двоеточия. Считать, что в данном файле находятся следующие строки:\n",
    "\n",
    "root:x:0:0:root:/root:/bin/bash\n",
    "\n",
    "tcpdump:x:107:113::/nonexistent:/usr/sbin/nologin\n",
    "\n",
    "snap_daemon:x:584788:584788::/nonexistent:/usr/bin/false\n",
    "\n",
    "_apt:x:105:65534::/nonexistent:/usr/sbin/nologin\n",
    "\n",
    "uuidd:x:106:112::/run/uuidd:/usr/sbin/nologin\n",
    "\n",
    "tcpdump:x:107:113::/nonexistent:/usr/sbin/nologin\n",
    "\n",
    "egor:x:1000:1000:,,,:/home/egor:/bin/bash\n",
    "\n"
   ]
  },
  {
   "cell_type": "code",
   "execution_count": 34,
   "id": "4d0e8633",
   "metadata": {
    "ExecuteTime": {
     "end_time": "2023-10-01T09:06:42.591270Z",
     "start_time": "2023-10-01T09:06:42.586619Z"
    }
   },
   "outputs": [
    {
     "name": "stdout",
     "output_type": "stream",
     "text": [
      "root:x:0:0:root:/root:/bin/bash\n",
      "egor:x:1000:1000:,,,:/home/egor:/bin/bash\n",
      "snap_daemon:x:584788:584788::/nonexistent:/usr/bin/false\n",
      "uuidd:x:106:112::/run/uuidd:/usr/sbin/nologin\n",
      "tcpdump:x:107:113::/nonexistent:/usr/sbin/nologin\n",
      "tcpdump:x:107:113::/nonexistent:/usr/sbin/nologin\n",
      "_apt:x:105:65534::/nonexistent:/usr/sbin/nologin\n"
     ]
    }
   ],
   "source": [
    "from functools import cmp_to_key\n",
    "\n",
    "etc_passwd = [\n",
    "    'root:x:0:0:root:/root:/bin/bash',\n",
    "    'tcpdump:x:107:113::/nonexistent:/usr/sbin/nologin',\n",
    "    'snap_daemon:x:584788:584788::/nonexistent:/usr/bin/false',\n",
    "    '_apt:x:105:65534::/nonexistent:/usr/sbin/nologin',\n",
    "    'uuidd:x:106:112::/run/uuidd:/usr/sbin/nologin',\n",
    "    'tcpdump:x:107:113::/nonexistent:/usr/sbin/nologin',\n",
    "    'egor:x:1000:1000:,,,:/home/egor:/bin/bash'\n",
    "]\n",
    "\n",
    "\n",
    "def comparator(s_1, s_2):\n",
    "    list_1 = s_1.split(':')\n",
    "    list_2 = s_2.split(':')\n",
    "    if list_1[-1] < list_2[-1]:\n",
    "        return -1\n",
    "    if list_1[-1] > list_2[-1]:\n",
    "        return 1\n",
    "    if list_1[0] < list_2[0]:\n",
    "        return 1\n",
    "    if list_1[0] > list_2[0]:\n",
    "        return -1\n",
    "    return 0\n",
    "\n",
    "\n",
    "etc_passwd.sort(key=cmp_to_key(comparator))\n",
    "\n",
    "for each in etc_passwd:\n",
    "    print(each)"
   ]
  },
  {
   "cell_type": "markdown",
   "id": "501ee2b3",
   "metadata": {},
   "source": [
    "### **1.3. Задание на functools.lru_cache**\n",
    "Британские ученые открыли, что у атома с порядковым номером n может быть f(n) = f(n - 1) + f(n - 2) * sign(f(n - 1)) независимых состояний, где sign(x) – это знак числа x. Физики хотели узнать число независимых состояний у атома вольфрама с порядковым номером 74, но они ничего не знали о кешировании и так не дождались результатов вычисления при помощи рекурсии даже на суперкомпьютере. Помогите ученым."
   ]
  },
  {
   "cell_type": "code",
   "execution_count": 59,
   "id": "851d9b94",
   "metadata": {
    "ExecuteTime": {
     "end_time": "2023-10-01T09:28:19.913919Z",
     "start_time": "2023-10-01T09:28:19.909903Z"
    }
   },
   "outputs": [
    {
     "name": "stdout",
     "output_type": "stream",
     "text": [
      "354224848179261915075\n"
     ]
    }
   ],
   "source": [
    "from functools import lru_cache\n",
    "\n",
    "\n",
    "def sign(x):\n",
    "    if x > 0:\n",
    "        return 1\n",
    "    elif x < 0:\n",
    "        return -1\n",
    "    return 0\n",
    "\n",
    "\n",
    "@lru_cache\n",
    "def f(n):\n",
    "    if n == 1:\n",
    "        return 1\n",
    "    if n <= 0:\n",
    "        return 0\n",
    "    return f(n - 1) + f(n - 2) * sign(f(n - 1))\n",
    "\n",
    "\n",
    "print(f(74))"
   ]
  },
  {
   "cell_type": "markdown",
   "id": "0e55e23b",
   "metadata": {},
   "source": [
    "### **1.4. Задание на functools.partial**\n",
    "Написанный код для задания 1.1. не совсем удобно использовать, так как постоянно приходится передавать в него множество \"проблемных\" символов bad_set, которое меняется редко. Используя функцию partial из functools сократите длину кода для проверки строк, чтобы не приходилось постоянно указывать множество bad_set."
   ]
  },
  {
   "cell_type": "code",
   "execution_count": 67,
   "id": "b9876fcd",
   "metadata": {
    "ExecuteTime": {
     "end_time": "2023-10-01T09:44:33.752531Z",
     "start_time": "2023-10-01T09:44:33.748469Z"
    }
   },
   "outputs": [
    {
     "name": "stdout",
     "output_type": "stream",
     "text": [
      "\"Hello, world!\": Check OK!\n",
      "\"Goodbye,\tworld!\": Check FAILED!\n"
     ]
    }
   ],
   "source": [
    "from functools import partial\n",
    "\n",
    "\n",
    "def validate_string(s, bad_set):\n",
    "    return all(ord(c) not in bad_set for c in s)\n",
    "\n",
    "\n",
    "def get_result(log_value):\n",
    "    if log_value:\n",
    "        return 'Check OK!'\n",
    "    return 'Check FAILED!'\n",
    "\n",
    "\n",
    "s1 = 'Hello, world!'\n",
    "s2 = 'Goodbye,\\tworld!'\n",
    "bad_set = set(ord(c) for c in ['\\t', '\\r', '\\b'])\n",
    "\n",
    "validate_string = partial(validate_string, bad_set=bad_set)\n",
    "\n",
    "print(f'\"{s1}\": {get_result(validate_string(s1))}')\n",
    "print(f'\"{s2}\": {get_result(validate_string(s2))}')"
   ]
  },
  {
   "cell_type": "markdown",
   "id": "b99aa524",
   "metadata": {},
   "source": [
    "### **1.5. Задание на itertools.pairwise**\n",
    "Дан список дивизий, располагающихся на передовой последовательно. По номеру данной дивизии записано целое цисло, характеризующее относительную мощь данной части от 0 до 10. Фронт может быть прорван противником, если её мощь вместе с дивизией, стоящей правее, меньше определённого значения. Проверить, может ли быть прорван фронт. Если да, то вывести номера участков (номер дивизии равен номеру участка), на которых он может быть прорван (нумерация участков с единицы)."
   ]
  },
  {
   "cell_type": "code",
   "execution_count": 11,
   "id": "27c48685",
   "metadata": {
    "ExecuteTime": {
     "end_time": "2023-10-02T09:38:06.023334Z",
     "start_time": "2023-10-02T09:38:06.010548Z"
    }
   },
   "outputs": [
    {
     "name": "stdout",
     "output_type": "stream",
     "text": [
      "(10, 4) (4, 3) (3, 10) (10, 2) (2, 2) (2, 4) (4, 3) (3, 1) (1, 8)\n",
      "Опасность прорыва на участках с номерами: [5, 8]\n"
     ]
    }
   ],
   "source": [
    "from itertools import pairwise\n",
    "\n",
    "\n",
    "def check_persistence(my_tuple, persistence):\n",
    "    return sum(my_tuple) >= persistence\n",
    "\n",
    "\n",
    "min_persistence = 5\n",
    "military_persistence = [10, 4, 3, 10, 2, 2, 4, 3, 1, 8]\n",
    "\n",
    "check_result = [\n",
    "    check_persistence(_, min_persistence)\n",
    "    for _ in pairwise(military_persistence)\n",
    "]\n",
    "\n",
    "if not all(check_result):\n",
    "    numbers = [\n",
    "        index + 1 for index in range(len(check_result))\n",
    "        if not check_result[index]\n",
    "    ]\n",
    "    print(f'Опасность прорыва на участках с номерами: {sorted(numbers)}')\n",
    "else:\n",
    "    print(f'Опасности прорыва нет')"
   ]
  },
  {
   "cell_type": "markdown",
   "id": "79b74496",
   "metadata": {},
   "source": [
    "### **1.6. Задание на itertools.accumulate**\n",
    "Сымитируйте работу конечного автомата, который подсчитывает сумму кодов введённой строки (допустим ввод строчных латинских букв и цифр) и пускает посетителя только тогда, когда сумма кодов символа и всех предыдущих символов введённой строки делится на длину всей строки и она не короче трех символов."
   ]
  },
  {
   "cell_type": "code",
   "execution_count": 15,
   "id": "54c03325",
   "metadata": {
    "ExecuteTime": {
     "end_time": "2023-10-02T09:40:10.548351Z",
     "start_time": "2023-10-02T09:40:10.531244Z"
    }
   },
   "outputs": [
    {
     "name": "stdout",
     "output_type": "stream",
     "text": [
      "Введен пароль \"jst\". Закрыто!\n",
      "Введен пароль \"89r4h\". Закрыто!\n",
      "Введен пароль \"cf3\". Открыто!\n"
     ]
    }
   ],
   "source": [
    "from itertools import accumulate, permutations\n",
    "from functools import partial\n",
    "\n",
    "\n",
    "def finite_state_machine(s):\n",
    "    my_list = []\n",
    "    a = accumulate(list(ord(each) for each in s))\n",
    "    return not all(each % len(s) != 0 or len(s) < 3 for each in a)\n",
    "\n",
    "\n",
    "def print_result(my_f):\n",
    "    def wrapper(password):\n",
    "        print(f'Введен пароль \"{password}\".', end=' ')\n",
    "        if my_f(password):\n",
    "            print('Открыто!')\n",
    "        else:\n",
    "            print('Закрыто!')\n",
    "        pass\n",
    "\n",
    "    return wrapper\n",
    "\n",
    "\n",
    "print_result = print_result(finite_state_machine)\n",
    "\n",
    "s_1 = 'jst'\n",
    "s_2 = '89r4h'\n",
    "s_3 = 'cf3'\n",
    "print_result(s_1)\n",
    "print_result(s_2)\n",
    "print_result(s_3)\n",
    "\n",
    "# for each in permutations('abcdefg123', 3):\n",
    "#     '''\n",
    "#     Ручной перебор паролей\n",
    "#     '''\n",
    "#     s = \"\".join(each)\n",
    "#     if finite_state_machine(s):\n",
    "#         print(f'SUCCESS: {s}')"
   ]
  },
  {
   "cell_type": "markdown",
   "id": "5785d23c",
   "metadata": {},
   "source": [
    "## Задание 2\n",
    "Решить следующую задачу:\n",
    "\n",
    "Вводится список целых чисел в одну строчку через пробел. Необходимо оставить в нем только числа, в записи которых нет повторяющихся цифр и у которых первая цифра больше последней. Реализовать программу с использованием функции filter. Результат отобразить на экране в виде последовательности оставшихся чисел."
   ]
  },
  {
   "cell_type": "code",
   "execution_count": 8,
   "id": "8cc3a627",
   "metadata": {
    "ExecuteTime": {
     "end_time": "2023-10-02T07:26:01.636734Z",
     "start_time": "2023-10-02T07:26:01.629040Z"
    }
   },
   "outputs": [
    {
     "name": "stdout",
     "output_type": "stream",
     "text": [
      "201 83\n"
     ]
    }
   ],
   "source": [
    "# digits_list = map(int, input().split())\n",
    "digits_list = ['101', '102', '201', '8575', '83']\n",
    "\n",
    "\n",
    "def check_func(x):\n",
    "    x_str = str(x)\n",
    "    x_set = set(x)\n",
    "    if len(x_str) == len(x_set) and int(x_str[0]) > int(x_str[-1]):\n",
    "        return True\n",
    "    return False\n",
    "\n",
    "\n",
    "digits_list = list(filter(check_func, digits_list))\n",
    "print(*digits_list)"
   ]
  },
  {
   "cell_type": "markdown",
   "id": "1a509840",
   "metadata": {},
   "source": [
    "## Задание 3\n",
    "Решить следующую задачу:\n",
    "\n",
    "Вася составляет 6-буквенные слова из букв слова ДЕРЕВО так, что буквы на позициях одинаковой четности расположены в алфавитном порядке. Сколько различных слов может составить Вася? **Ответ: 1225**"
   ]
  },
  {
   "cell_type": "code",
   "execution_count": 16,
   "id": "bfa4f406",
   "metadata": {
    "ExecuteTime": {
     "end_time": "2023-10-02T09:40:50.521548Z",
     "start_time": "2023-10-02T09:40:50.473542Z"
    }
   },
   "outputs": [
    {
     "name": "stdout",
     "output_type": "stream",
     "text": [
      "1225\n"
     ]
    }
   ],
   "source": [
    "from itertools import product\n",
    "\n",
    "\n",
    "def check_sortness(my_tuple):\n",
    "    return list(my_tuple) == sorted(my_tuple)\n",
    "\n",
    "\n",
    "word_str = 'ДЕРЕВО'\n",
    "i = 0\n",
    "for word in product(set(word_str), repeat=6):\n",
    "    if check_sortness(word[::2]) and check_sortness(word[1::2]):\n",
    "        i += 1\n",
    "print(i)"
   ]
  },
  {
   "cell_type": "code",
   "execution_count": null,
   "id": "7841e225",
   "metadata": {},
   "outputs": [],
   "source": []
  }
 ],
 "metadata": {
  "kernelspec": {
   "display_name": "Python 3 (ipykernel)",
   "language": "python",
   "name": "python3"
  },
  "language_info": {
   "codemirror_mode": {
    "name": "ipython",
    "version": 3
   },
   "file_extension": ".py",
   "mimetype": "text/x-python",
   "name": "python",
   "nbconvert_exporter": "python",
   "pygments_lexer": "ipython3",
   "version": "3.11.5"
  },
  "varInspector": {
   "cols": {
    "lenName": 16,
    "lenType": 16,
    "lenVar": 40
   },
   "kernels_config": {
    "python": {
     "delete_cmd_postfix": "",
     "delete_cmd_prefix": "del ",
     "library": "var_list.py",
     "varRefreshCmd": "print(var_dic_list())"
    },
    "r": {
     "delete_cmd_postfix": ") ",
     "delete_cmd_prefix": "rm(",
     "library": "var_list.r",
     "varRefreshCmd": "cat(var_dic_list()) "
    }
   },
   "types_to_exclude": [
    "module",
    "function",
    "builtin_function_or_method",
    "instance",
    "_Feature"
   ],
   "window_display": false
  }
 },
 "nbformat": 4,
 "nbformat_minor": 5
}
